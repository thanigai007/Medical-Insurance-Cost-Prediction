{
 "cells": [
  {
   "cell_type": "code",
   "execution_count": 11,
   "id": "6c31a867-024a-46d5-a564-1b52d1d4609b",
   "metadata": {},
   "outputs": [
    {
     "name": "stdout",
     "output_type": "stream",
     "text": [
      "<class 'pandas.core.frame.DataFrame'>\n",
      "RangeIndex: 2772 entries, 0 to 2771\n",
      "Data columns (total 7 columns):\n",
      " #   Column    Non-Null Count  Dtype  \n",
      "---  ------    --------------  -----  \n",
      " 0   age       2772 non-null   int64  \n",
      " 1   sex       2772 non-null   object \n",
      " 2   bmi       2772 non-null   float64\n",
      " 3   children  2772 non-null   int64  \n",
      " 4   smoker    2772 non-null   object \n",
      " 5   region    2772 non-null   object \n",
      " 6   charges   2772 non-null   float64\n",
      "dtypes: float64(2), int64(2), object(3)\n",
      "memory usage: 151.7+ KB\n",
      "None\n",
      "   age     sex     bmi  children smoker     region      charges\n",
      "0   19  female  27.900         0    yes  southwest  16884.92400\n",
      "1   18    male  33.770         1     no  southeast   1725.55230\n",
      "2   28    male  33.000         3     no  southeast   4449.46200\n",
      "3   33    male  22.705         0     no  northwest  21984.47061\n",
      "4   32    male  28.880         0     no  northwest   3866.85520\n"
     ]
    }
   ],
   "source": [
    "import pandas as pd\n",
    "import numpy as np\n",
    "\n",
    "# Load the dataset\n",
    "df = pd.read_csv(\"D:/Project/Guvi_Project/Medical Insurance Cost Prediction/medical_insurance.csv\")\n",
    "\n",
    "# Display basic info\n",
    "print(df.info())\n",
    "print(df.head())"
   ]
  },
  {
   "cell_type": "code",
   "execution_count": 13,
   "id": "76939483-f531-48d1-a2fa-2899587ca559",
   "metadata": {},
   "outputs": [
    {
     "name": "stdout",
     "output_type": "stream",
     "text": [
      "age         0\n",
      "sex         0\n",
      "bmi         0\n",
      "children    0\n",
      "smoker      0\n",
      "region      0\n",
      "charges     0\n",
      "dtype: int64\n"
     ]
    }
   ],
   "source": [
    "# Check for missing values\n",
    "print(df.isnull().sum())"
   ]
  },
  {
   "cell_type": "code",
   "execution_count": 15,
   "id": "1c9aa6d8-43e3-46a6-83f0-ec4a723657dd",
   "metadata": {},
   "outputs": [
    {
     "name": "stdout",
     "output_type": "stream",
     "text": [
      "BMI outliers:\n",
      " Empty DataFrame\n",
      "Columns: [age, sex, bmi, children, smoker, region, charges]\n",
      "Index: []\n"
     ]
    }
   ],
   "source": [
    "# Check for outliers in 'bmi' (normal range: 10-60)\n",
    "bmi_outliers = df[(df['bmi'] < 10) | (df['bmi'] > 60)]\n",
    "print(f\"BMI outliers:\\n {bmi_outliers}\")\n",
    "\n",
    "# Cap extreme BMI values (optional)\n",
    "df['bmi'] = df['bmi'].clip(lower=10, upper=60)\n",
    "\n",
    "# Check for extreme 'charges' (top 1%)\n",
    "upper_limit = df['charges'].quantile(0.99)\n",
    "df = df[df['charges'] <= upper_limit]"
   ]
  },
  {
   "cell_type": "code",
   "execution_count": 17,
   "id": "3cdfd7a0-4f74-4636-9d66-138cb4f40a47",
   "metadata": {},
   "outputs": [],
   "source": [
    "# Binary encoding for 'sex' and 'smoker'\n",
    "df['sex'] = df['sex'].map({'male': 0, 'female': 1})\n",
    "df['smoker'] = df['smoker'].map({'no': 0, 'yes': 1})"
   ]
  },
  {
   "cell_type": "code",
   "execution_count": 19,
   "id": "33074bde-51b2-4c39-9d4c-b323c1eeeb45",
   "metadata": {},
   "outputs": [
    {
     "name": "stdout",
     "output_type": "stream",
     "text": [
      "   age  sex     bmi  children  smoker     region      charges\n",
      "0   19    1  27.900         0       1  southwest  16884.92400\n",
      "1   18    0  33.770         1       0  southeast   1725.55230\n",
      "2   28    0  33.000         3       0  southeast   4449.46200\n",
      "3   33    0  22.705         0       0  northwest  21984.47061\n",
      "4   32    0  28.880         0       0  northwest   3866.85520\n"
     ]
    }
   ],
   "source": [
    "print(df.head())"
   ]
  },
  {
   "cell_type": "code",
   "execution_count": 21,
   "id": "fb659daf-5059-4b1e-9fb9-8f3e9aab3b50",
   "metadata": {},
   "outputs": [],
   "source": [
    "# Log-transform 'charges' if skewed (common for cost data)\n",
    "df['log_charges'] = np.log1p(df['charges'])"
   ]
  },
  {
   "cell_type": "code",
   "execution_count": 23,
   "id": "38701957-2607-46a4-a931-b6e693cb5d47",
   "metadata": {},
   "outputs": [],
   "source": [
    "# One-hot encode 'region'\n",
    "df = pd.get_dummies(df, columns=['region'], prefix='region', drop_first=True)"
   ]
  },
  {
   "cell_type": "code",
   "execution_count": 25,
   "id": "27f66911-a486-4f32-947b-829f030b6aa8",
   "metadata": {},
   "outputs": [
    {
     "name": "stdout",
     "output_type": "stream",
     "text": [
      "   age  sex     bmi  children  smoker      charges  log_charges  \\\n",
      "0   19    1  27.900         0       1  16884.92400     9.734236   \n",
      "1   18    0  33.770         1       0   1725.55230     7.453882   \n",
      "2   28    0  33.000         3       0   4449.46200     8.400763   \n",
      "3   33    0  22.705         0       0  21984.47061     9.998137   \n",
      "4   32    0  28.880         0       0   3866.85520     8.260455   \n",
      "5   31    1  25.740         0       0   3756.62160     8.231541   \n",
      "6   46    1  33.440         1       0   8240.58960     9.016949   \n",
      "7   37    1  27.740         3       0   7281.50560     8.893230   \n",
      "8   37    0  29.830         2       0   6406.41070     8.765211   \n",
      "9   60    1  25.840         0       0  28923.13692    10.272432   \n",
      "\n",
      "   region_northwest  region_southeast  region_southwest  \n",
      "0             False             False              True  \n",
      "1             False              True             False  \n",
      "2             False              True             False  \n",
      "3              True             False             False  \n",
      "4              True             False             False  \n",
      "5             False              True             False  \n",
      "6             False              True             False  \n",
      "7              True             False             False  \n",
      "8             False             False             False  \n",
      "9              True             False             False  \n",
      "               age          sex          bmi     children       smoker  \\\n",
      "count  2744.000000  2744.000000  2744.000000  2744.000000  2744.000000   \n",
      "mean     38.988338     0.494169    30.629096     1.104956     0.195335   \n",
      "std      14.047360     0.500057     6.104708     1.216872     0.396531   \n",
      "min      18.000000     0.000000    15.960000     0.000000     0.000000   \n",
      "25%      26.000000     0.000000    26.180000     0.000000     0.000000   \n",
      "50%      39.000000     0.000000    30.305000     1.000000     0.000000   \n",
      "75%      51.000000     1.000000    34.600000     2.000000     0.000000   \n",
      "max      64.000000     1.000000    53.130000     5.000000     1.000000   \n",
      "\n",
      "            charges  log_charges  \n",
      "count   2744.000000  2744.000000  \n",
      "mean   12852.185105     9.076026  \n",
      "std    11501.955872     0.910789  \n",
      "min     1121.873900     7.023647  \n",
      "25%     4672.704150     8.449707  \n",
      "50%     9257.146100     9.133259  \n",
      "75%    15888.887485     9.673417  \n",
      "max    48549.178350    10.790353  \n"
     ]
    }
   ],
   "source": [
    "# Verify cleaned data\n",
    "print(df.head(10))\n",
    "print(df.describe())"
   ]
  },
  {
   "cell_type": "code",
   "execution_count": 27,
   "id": "5727f0e4-fe81-4182-9515-779ba61287d2",
   "metadata": {},
   "outputs": [],
   "source": [
    "# Save cleaned dataset\n",
    "df.to_csv(\"D:/Project/Guvi_Project/Medical Insurance Cost Prediction/medical_insurance.csv\", index=False)"
   ]
  },
  {
   "cell_type": "code",
   "execution_count": null,
   "id": "60b56053-5586-471a-967a-41a9b594584b",
   "metadata": {},
   "outputs": [],
   "source": []
  }
 ],
 "metadata": {
  "kernelspec": {
   "display_name": "Python 3 (ipykernel)",
   "language": "python",
   "name": "python3"
  },
  "language_info": {
   "codemirror_mode": {
    "name": "ipython",
    "version": 3
   },
   "file_extension": ".py",
   "mimetype": "text/x-python",
   "name": "python",
   "nbconvert_exporter": "python",
   "pygments_lexer": "ipython3",
   "version": "3.12.7"
  }
 },
 "nbformat": 4,
 "nbformat_minor": 5
}
