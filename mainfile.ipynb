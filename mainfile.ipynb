{
 "cells": [
  {
   "cell_type": "code",
   "execution_count": 1,
   "id": "99e82e6c-48af-4c6d-adb4-810edfc6a84e",
   "metadata": {},
   "outputs": [
    {
     "name": "stdout",
     "output_type": "stream",
     "text": [
      "   age  sex     bmi  children  smoker      charges  log_charges  \\\n",
      "0   19    1  27.900         0       1  16884.92400     9.734236   \n",
      "1   18    0  33.770         1       0   1725.55230     7.453882   \n",
      "2   28    0  33.000         3       0   4449.46200     8.400763   \n",
      "3   33    0  22.705         0       0  21984.47061     9.998137   \n",
      "4   32    0  28.880         0       0   3866.85520     8.260455   \n",
      "\n",
      "   region_northwest  region_southeast  region_southwest  \n",
      "0             False             False              True  \n",
      "1             False              True             False  \n",
      "2             False              True             False  \n",
      "3              True             False             False  \n",
      "4              True             False             False  \n"
     ]
    }
   ],
   "source": [
    "import pandas as pd\n",
    "import numpy as np\n",
    "import matplotlib.pyplot as plt\n",
    "import seaborn as sns\n",
    "import plotly.express as px\n",
    "\n",
    "# Load cleaned data\n",
    "df = pd.read_csv(\"D:/Project/Guvi_Project/Medical Insurance Cost Prediction/medical_insurance.csv\")\n",
    "print(df.head())"
   ]
  },
  {
   "cell_type": "code",
   "execution_count": 3,
   "id": "54570284-d9e0-415c-a062-c6d1fa36927a",
   "metadata": {},
   "outputs": [
    {
     "name": "stdout",
     "output_type": "stream",
     "text": [
      "Train size: 2195 samples\n",
      "Test size: 549 samples\n"
     ]
    }
   ],
   "source": [
    "from sklearn.model_selection import train_test_split\n",
    "\n",
    "# Separate features (X) and target (y)\n",
    "X = df.drop(['charges','log_charges'], axis=1)  # Features\n",
    "y = df['charges']               # Target variable\n",
    "\n",
    "# Split with stratification on 'smoker' (to maintain class balance)\n",
    "X_train, X_test, y_train, y_test = train_test_split(\n",
    "    X, y, \n",
    "    test_size=0.2, \n",
    "    random_state=42,\n",
    "    stratify=df['smoker']  # Critical for this dataset\n",
    ")\n",
    "\n",
    "print(f\"Train size: {len(X_train)} samples\")\n",
    "print(f\"Test size: {len(X_test)} samples\")"
   ]
  },
  {
   "cell_type": "code",
   "execution_count": 5,
   "id": "ab7d5368-87e8-416f-92e5-d0ef5bd1f2a4",
   "metadata": {},
   "outputs": [],
   "source": [
    "X_train.to_csv(\"D:/Project/Guvi_Project/Medical Insurance Cost Prediction/X_train.csv\", index=False)\n",
    "X_test.to_csv(\"D:/Project/Guvi_Project/Medical Insurance Cost Prediction/X_test.csv\", index=False)\n",
    "y_train.to_csv(\"D:/Project/Guvi_Project/Medical Insurance Cost Prediction/y_train.csv\", index=False)\n",
    "y_test.to_csv(\"D:/Project/Guvi_Project/Medical Insurance Cost Prediction/y_test.csv\", index=False)"
   ]
  },
  {
   "cell_type": "code",
   "execution_count": 7,
   "id": "19cc8649-69f2-4737-8581-3c70e89a2849",
   "metadata": {},
   "outputs": [],
   "source": [
    "import time\n",
    "from sklearn.linear_model import LinearRegression\n",
    "from sklearn.tree import DecisionTreeRegressor\n",
    "from sklearn.ensemble import RandomForestRegressor, GradientBoostingRegressor\n",
    "from xgboost import XGBRegressor\n",
    "from sklearn.metrics import mean_absolute_error, mean_squared_error, r2_score\n",
    "import mlflow"
   ]
  },
  {
   "cell_type": "code",
   "execution_count": 9,
   "id": "e3d4d773-3069-4d0c-ad57-5dc177c60bb0",
   "metadata": {},
   "outputs": [
    {
     "name": "stderr",
     "output_type": "stream",
     "text": [
      "C:\\Users\\hp\\anaconda3\\Lib\\site-packages\\sklearn\\metrics\\_regression.py:492: FutureWarning: 'squared' is deprecated in version 1.4 and will be removed in 1.6. To calculate the root mean squared error, use the function'root_mean_squared_error'.\n",
      "  warnings.warn(\n",
      "C:\\Users\\hp\\anaconda3\\Lib\\site-packages\\sklearn\\metrics\\_regression.py:492: FutureWarning: 'squared' is deprecated in version 1.4 and will be removed in 1.6. To calculate the root mean squared error, use the function'root_mean_squared_error'.\n",
      "  warnings.warn(\n",
      "C:\\Users\\hp\\anaconda3\\Lib\\site-packages\\sklearn\\metrics\\_regression.py:492: FutureWarning: 'squared' is deprecated in version 1.4 and will be removed in 1.6. To calculate the root mean squared error, use the function'root_mean_squared_error'.\n",
      "  warnings.warn(\n",
      "C:\\Users\\hp\\anaconda3\\Lib\\site-packages\\sklearn\\metrics\\_regression.py:492: FutureWarning: 'squared' is deprecated in version 1.4 and will be removed in 1.6. To calculate the root mean squared error, use the function'root_mean_squared_error'.\n",
      "  warnings.warn(\n"
     ]
    },
    {
     "name": "stdout",
     "output_type": "stream",
     "text": [
      "| Model             |     MAE |    RMSE |       R2 |\n",
      "|:------------------|--------:|--------:|---------:|\n",
      "| XGBoost           | 1137.53 | 2537.65 | 0.949752 |\n",
      "| Random Forest     | 1353.27 | 2838.01 | 0.937153 |\n",
      "| Gradient Boosting | 2163.71 | 4081.12 | 0.870039 |\n",
      "| Decision Tree     | 2376.29 | 4282.97 | 0.856866 |\n",
      "| Linear Regression | 4187.3  | 5956.15 | 0.723187 |\n",
      " Model Leaderboard \n"
     ]
    },
    {
     "name": "stderr",
     "output_type": "stream",
     "text": [
      "C:\\Users\\hp\\anaconda3\\Lib\\site-packages\\sklearn\\metrics\\_regression.py:492: FutureWarning: 'squared' is deprecated in version 1.4 and will be removed in 1.6. To calculate the root mean squared error, use the function'root_mean_squared_error'.\n",
      "  warnings.warn(\n"
     ]
    },
    {
     "data": {
      "text/html": [
       "<style type=\"text/css\">\n",
       "#T_57bfa_row0_col3 {\n",
       "  background-color: #fde725;\n",
       "  color: #000000;\n",
       "}\n",
       "#T_57bfa_row1_col3 {\n",
       "  background-color: #dae319;\n",
       "  color: #000000;\n",
       "}\n",
       "#T_57bfa_row2_col3 {\n",
       "  background-color: #2eb37c;\n",
       "  color: #f1f1f1;\n",
       "}\n",
       "#T_57bfa_row3_col3 {\n",
       "  background-color: #21a685;\n",
       "  color: #f1f1f1;\n",
       "}\n",
       "#T_57bfa_row4_col3 {\n",
       "  background-color: #440154;\n",
       "  color: #f1f1f1;\n",
       "}\n",
       "</style>\n",
       "<table id=\"T_57bfa\">\n",
       "  <thead>\n",
       "    <tr>\n",
       "      <th class=\"blank level0\" >&nbsp;</th>\n",
       "      <th id=\"T_57bfa_level0_col0\" class=\"col_heading level0 col0\" >Model</th>\n",
       "      <th id=\"T_57bfa_level0_col1\" class=\"col_heading level0 col1\" >MAE</th>\n",
       "      <th id=\"T_57bfa_level0_col2\" class=\"col_heading level0 col2\" >RMSE</th>\n",
       "      <th id=\"T_57bfa_level0_col3\" class=\"col_heading level0 col3\" >R2</th>\n",
       "    </tr>\n",
       "    <tr>\n",
       "      <th class=\"index_name level0\" >Rank</th>\n",
       "      <th class=\"blank col0\" >&nbsp;</th>\n",
       "      <th class=\"blank col1\" >&nbsp;</th>\n",
       "      <th class=\"blank col2\" >&nbsp;</th>\n",
       "      <th class=\"blank col3\" >&nbsp;</th>\n",
       "    </tr>\n",
       "  </thead>\n",
       "  <tbody>\n",
       "    <tr>\n",
       "      <th id=\"T_57bfa_level0_row0\" class=\"row_heading level0 row0\" >1</th>\n",
       "      <td id=\"T_57bfa_row0_col0\" class=\"data row0 col0\" >XGBoost</td>\n",
       "      <td id=\"T_57bfa_row0_col1\" class=\"data row0 col1\" >$1,138</td>\n",
       "      <td id=\"T_57bfa_row0_col2\" class=\"data row0 col2\" >$2,538</td>\n",
       "      <td id=\"T_57bfa_row0_col3\" class=\"data row0 col3\" >0.950</td>\n",
       "    </tr>\n",
       "    <tr>\n",
       "      <th id=\"T_57bfa_level0_row1\" class=\"row_heading level0 row1\" >2</th>\n",
       "      <td id=\"T_57bfa_row1_col0\" class=\"data row1 col0\" >Random Forest</td>\n",
       "      <td id=\"T_57bfa_row1_col1\" class=\"data row1 col1\" >$1,353</td>\n",
       "      <td id=\"T_57bfa_row1_col2\" class=\"data row1 col2\" >$2,838</td>\n",
       "      <td id=\"T_57bfa_row1_col3\" class=\"data row1 col3\" >0.937</td>\n",
       "    </tr>\n",
       "    <tr>\n",
       "      <th id=\"T_57bfa_level0_row2\" class=\"row_heading level0 row2\" >3</th>\n",
       "      <td id=\"T_57bfa_row2_col0\" class=\"data row2 col0\" >Gradient Boosting</td>\n",
       "      <td id=\"T_57bfa_row2_col1\" class=\"data row2 col1\" >$2,164</td>\n",
       "      <td id=\"T_57bfa_row2_col2\" class=\"data row2 col2\" >$4,081</td>\n",
       "      <td id=\"T_57bfa_row2_col3\" class=\"data row2 col3\" >0.870</td>\n",
       "    </tr>\n",
       "    <tr>\n",
       "      <th id=\"T_57bfa_level0_row3\" class=\"row_heading level0 row3\" >4</th>\n",
       "      <td id=\"T_57bfa_row3_col0\" class=\"data row3 col0\" >Decision Tree</td>\n",
       "      <td id=\"T_57bfa_row3_col1\" class=\"data row3 col1\" >$2,376</td>\n",
       "      <td id=\"T_57bfa_row3_col2\" class=\"data row3 col2\" >$4,283</td>\n",
       "      <td id=\"T_57bfa_row3_col3\" class=\"data row3 col3\" >0.857</td>\n",
       "    </tr>\n",
       "    <tr>\n",
       "      <th id=\"T_57bfa_level0_row4\" class=\"row_heading level0 row4\" >5</th>\n",
       "      <td id=\"T_57bfa_row4_col0\" class=\"data row4 col0\" >Linear Regression</td>\n",
       "      <td id=\"T_57bfa_row4_col1\" class=\"data row4 col1\" >$4,187</td>\n",
       "      <td id=\"T_57bfa_row4_col2\" class=\"data row4 col2\" >$5,956</td>\n",
       "      <td id=\"T_57bfa_row4_col3\" class=\"data row4 col3\" >0.723</td>\n",
       "    </tr>\n",
       "  </tbody>\n",
       "</table>\n"
      ],
      "text/plain": [
       "<pandas.io.formats.style.Styler at 0x1f18a8e6d50>"
      ]
     },
     "metadata": {},
     "output_type": "display_data"
    }
   ],
   "source": [
    "models = {\n",
    "    \"Linear Regression\": LinearRegression(),\n",
    "    \"Decision Tree\": DecisionTreeRegressor(max_depth=5, random_state=42),\n",
    "    \"Random Forest\": RandomForestRegressor(n_estimators=100, random_state=42, n_jobs=-1),\n",
    "    \"Gradient Boosting\": GradientBoostingRegressor(n_estimators=100, random_state=42),\n",
    "    \"XGBoost\": XGBRegressor(n_estimators=100, random_state=42, n_jobs=-1)\n",
    "}\n",
    "\n",
    "results = []\n",
    "for name, model in models.items():\n",
    "    model.fit(X_train, y_train)\n",
    "    y_pred = model.predict(X_test)\n",
    "    \n",
    "    results.append({\n",
    "        'Model': name,\n",
    "        'MAE': mean_absolute_error(y_test, y_pred),\n",
    "        'RMSE': mean_squared_error(y_test, y_pred, squared=False),\n",
    "        'R2': r2_score(y_test, y_pred)\n",
    "    })\n",
    "\n",
    "results_df = pd.DataFrame(results).sort_values('R2', ascending=False)\n",
    "print(results_df.to_markdown(index=False))\n",
    "# Create leaderboard dataframe\n",
    "leaderboard = pd.DataFrame(results).sort_values(\"R2\", ascending=False)\n",
    "leaderboard[\"Rank\"] = range(1, len(leaderboard)+1)\n",
    "leaderboard.set_index(\"Rank\", inplace=True)\n",
    "\n",
    "# Display leaderboard\n",
    "print(\" Model Leaderboard \")\n",
    "display(leaderboard.style\n",
    "        .background_gradient(cmap=\"viridis\", subset=[\"R2\"])\n",
    "        .format({\n",
    "            \"R2\": \"{:.3f}\",\n",
    "            \"MAE\": \"${:,.0f}\",\n",
    "            \"RMSE\": \"${:,.0f}\",\n",
    "            \"Training Time (s)\": \"{:.3f}\"\n",
    "        }))\n"
   ]
  },
  {
   "cell_type": "code",
   "execution_count": 11,
   "id": "14990fd9-be81-4712-b675-7446a7c639d8",
   "metadata": {},
   "outputs": [],
   "source": [
    "from sklearn.model_selection import GridSearchCV"
   ]
  },
  {
   "cell_type": "code",
   "execution_count": 13,
   "id": "8d9c1452-4b7a-42b8-8f0b-29302f7d6fb7",
   "metadata": {},
   "outputs": [
    {
     "name": "stderr",
     "output_type": "stream",
     "text": [
      "2025/07/03 16:55:25 WARNING mlflow.utils.git_utils: Failed to import Git (the Git executable is probably not on your PATH), so Git SHA is not available. Error: Failed to initialize: Bad git executable.\n",
      "The git executable must be specified in one of the following ways:\n",
      "    - be included in your $PATH\n",
      "    - be set via $GIT_PYTHON_GIT_EXECUTABLE\n",
      "    - explicitly set via git.refresh(<full-path-to-git-executable>)\n",
      "\n",
      "All git commands will error until this is rectified.\n",
      "\n",
      "This initial message can be silenced or aggravated in the future by setting the\n",
      "$GIT_PYTHON_REFRESH environment variable. Use one of the following values:\n",
      "    - quiet|q|silence|s|silent|none|n|0: for no message or exception\n",
      "    - warn|w|warning|log|l|1: for a warning message (logging level CRITICAL, displayed by default)\n",
      "    - error|e|exception|raise|r|2: for a raised exception\n",
      "\n",
      "Example:\n",
      "    export GIT_PYTHON_REFRESH=quiet\n",
      "\n",
      "2025/07/03 16:55:25 WARNING mlflow.models.model: `artifact_path` is deprecated. Please use `name` instead.\n",
      "2025/07/03 16:55:33 WARNING mlflow.models.model: Model logged without a signature and input example. Please set `input_example` parameter when logging the model to auto infer the model signature.\n",
      "2025/07/03 16:55:33 WARNING mlflow.models.model: `artifact_path` is deprecated. Please use `name` instead.\n"
     ]
    },
    {
     "name": "stdout",
     "output_type": "stream",
     "text": [
      "   Linear Regression | R2: 0.7232 | MAE: $4,187.30 | RMSE: $5,956.15\n"
     ]
    },
    {
     "name": "stderr",
     "output_type": "stream",
     "text": [
      "2025/07/03 16:55:38 WARNING mlflow.models.model: Model logged without a signature and input example. Please set `input_example` parameter when logging the model to auto infer the model signature.\n"
     ]
    },
    {
     "name": "stdout",
     "output_type": "stream",
     "text": [
      "       Decision Tree | R2: 0.9377 | MAE: $565.93 | RMSE: $2,826.60\n"
     ]
    },
    {
     "name": "stderr",
     "output_type": "stream",
     "text": [
      "2025/07/03 16:55:39 WARNING mlflow.models.model: `artifact_path` is deprecated. Please use `name` instead.\n",
      "2025/07/03 16:55:44 WARNING mlflow.models.model: Model logged without a signature and input example. Please set `input_example` parameter when logging the model to auto infer the model signature.\n"
     ]
    },
    {
     "name": "stdout",
     "output_type": "stream",
     "text": [
      "       Random Forest | R2: 0.9372 | MAE: $1,353.27 | RMSE: $2,838.01\n"
     ]
    },
    {
     "name": "stderr",
     "output_type": "stream",
     "text": [
      "2025/07/03 16:55:44 WARNING mlflow.models.model: `artifact_path` is deprecated. Please use `name` instead.\n",
      "2025/07/03 16:55:49 WARNING mlflow.models.model: Model logged without a signature and input example. Please set `input_example` parameter when logging the model to auto infer the model signature.\n",
      "2025/07/03 16:55:50 WARNING mlflow.models.model: `artifact_path` is deprecated. Please use `name` instead.\n"
     ]
    },
    {
     "name": "stdout",
     "output_type": "stream",
     "text": [
      "   Gradient Boosting | R2: 0.8700 | MAE: $2,163.71 | RMSE: $4,081.12\n"
     ]
    },
    {
     "name": "stderr",
     "output_type": "stream",
     "text": [
      "2025/07/03 16:55:54 WARNING mlflow.models.model: Model logged without a signature and input example. Please set `input_example` parameter when logging the model to auto infer the model signature.\n"
     ]
    },
    {
     "name": "stdout",
     "output_type": "stream",
     "text": [
      "             XGBoost | R2: 0.9498 | MAE: $1,137.53 | RMSE: $2,537.65\n"
     ]
    }
   ],
   "source": [
    "# 5. Initialize MLflow\n",
    "mlflow.set_experiment(\"Medic_Insurance_Cost_Prediction\")\n",
    "\n",
    "# 6. Define models to compare (now with Decision Tree instead of Ridge)\n",
    "models = {\n",
    "    \"Linear Regression\": LinearRegression(),\n",
    "    \"Decision Tree\": DecisionTreeRegressor(random_state=42),\n",
    "    \"Random Forest\": RandomForestRegressor(n_estimators=100, random_state=42),\n",
    "    \"Gradient Boosting\": GradientBoostingRegressor(n_estimators=100, random_state=42),\n",
    "    \"XGBoost\": XGBRegressor(n_estimators=100, random_state=42)\n",
    "}\n",
    "\n",
    "# 7. Train and track models\n",
    "for model_name, model in models.items():\n",
    "    with mlflow.start_run(run_name=model_name):\n",
    "        # Train model\n",
    "        model.fit(X_train, y_train)\n",
    "        \n",
    "        # Evaluate\n",
    "        y_pred = model.predict(X_test)\n",
    "        r2 = r2_score(y_test, y_pred)\n",
    "        mae = mean_absolute_error(y_test, y_pred)\n",
    "        rmse = np.sqrt(mean_squared_error(y_test, y_pred))\n",
    "        \n",
    "        # Log parameters\n",
    "        mlflow.log_params(model.get_params())\n",
    "        \n",
    "        # Log metrics\n",
    "        mlflow.log_metrics({\n",
    "            \"r2\": r2,\n",
    "            \"mae\": mae,\n",
    "            \"rmse\": rmse\n",
    "        })\n",
    "        \n",
    "        # Log model\n",
    "        mlflow.sklearn.log_model(model, \"model\")\n",
    "        \n",
    "        # Print results\n",
    "        print(f\"{model_name:>20} | R2: {r2:.4f} | MAE: ${mae:,.2f} | RMSE: ${rmse:,.2f}\")"
   ]
  },
  {
   "cell_type": "code",
   "execution_count": null,
   "id": "75fc3e18-c670-4ddf-ac38-025d4f898a00",
   "metadata": {},
   "outputs": [],
   "source": [
    "!mlflow ui"
   ]
  },
  {
   "cell_type": "code",
   "execution_count": null,
   "id": "051925f3-d19b-4a51-9acf-0e2976160d22",
   "metadata": {},
   "outputs": [],
   "source": []
  },
  {
   "cell_type": "code",
   "execution_count": 17,
   "id": "45d3cb9b-1bc4-44d5-a3a1-4dd17da0571c",
   "metadata": {},
   "outputs": [
    {
     "name": "stdout",
     "output_type": "stream",
     "text": [
      "Saved Linear Regression as: saved_insurance_models/Linear Regression_20250703_170025.joblib\n",
      "Saved Decision Tree as: saved_insurance_models/Decision Tree_20250703_170025.joblib\n",
      "Saved Random Forest as: saved_insurance_models/Random Forest_20250703_170025.joblib\n",
      "Saved Gradient Boosting as: saved_insurance_models/Gradient Boosting_20250703_170025.joblib\n",
      "Saved XGBoost as: saved_insurance_models/XGBoost_20250703_170025.joblib\n",
      "\n",
      "✅ All models saved to: C:\\Users\\hp\\saved_insurance_models\n"
     ]
    }
   ],
   "source": [
    "import joblib\n",
    "import os\n",
    "from datetime import datetime\n",
    "\n",
    "# Create directory for saved models\n",
    "model_dir = \"saved_insurance_models\"\n",
    "os.makedirs(model_dir, exist_ok=True)\n",
    "\n",
    "# Save each trained model with timestamp\n",
    "for model_name, model in models.items():\n",
    "    # Create filename with model name and timestamp\n",
    "    timestamp = datetime.now().strftime(\"%Y%m%d_%H%M%S\")\n",
    "    filename = f\"{model_dir}/{model_name}_{timestamp}.joblib\"\n",
    "    \n",
    "    # Save the model\n",
    "    joblib.dump(model, filename)\n",
    "    \n",
    "    print(f\"Saved {model_name} as: {filename}\")\n",
    "\n",
    "print(f\"\\n✅ All models saved to: {os.path.abspath(model_dir)}\")"
   ]
  },
  {
   "cell_type": "code",
   "execution_count": null,
   "id": "eebfc70f-7f33-4b93-aade-963ede82cda2",
   "metadata": {},
   "outputs": [],
   "source": []
  }
 ],
 "metadata": {
  "kernelspec": {
   "display_name": "Python 3 (ipykernel)",
   "language": "python",
   "name": "python3"
  },
  "language_info": {
   "codemirror_mode": {
    "name": "ipython",
    "version": 3
   },
   "file_extension": ".py",
   "mimetype": "text/x-python",
   "name": "python",
   "nbconvert_exporter": "python",
   "pygments_lexer": "ipython3",
   "version": "3.12.7"
  }
 },
 "nbformat": 4,
 "nbformat_minor": 5
}
